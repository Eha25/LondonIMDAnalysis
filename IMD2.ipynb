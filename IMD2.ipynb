{
 "cells": [
  {
   "cell_type": "code",
   "execution_count": null,
   "id": "ff669c27-02ab-449e-90d2-99bca352b9b0",
   "metadata": {},
   "outputs": [],
   "source": [
    "#handle warnings\n",
    "import warnings\n",
    "warnings.filterwarnings(\"ignore\")\n",
    "\n",
    "import shapely                 #needed to set geopandas geometry \n",
    "from shapely.wkt import loads  #needed to set geopandas geometry\n",
    "\n",
    "import pandas as pd            #for DataFrame and analysis\n",
    "import geopandas as gpd        #for mapping and spatial aggregation\n",
    "import mapclassify as mp   #to view quantitative classification summaries\n",
    "\n",
    "import numpy as np        #for working with arrays from mapclassify\n",
    "\n",
    "import matplotlib.pyplot as plt  #use matplotlib to modify the plots (e.g. make them larger) \n",
    "import palettable.colorbrewer.sequential as pcs  #for colorBrewer palettes"
   ]
  },
  {
   "cell_type": "code",
   "execution_count": null,
   "id": "7a104a5b-61e9-493b-bc7f-ce6007d9d324",
   "metadata": {},
   "outputs": [],
   "source": [
    "\n",
    "df_imd = pd.read_csv(\"IMD2019_Index_of_Multiple_Deprivation.csv\")\n",
    "\n",
    "\n",
    "lsoa_gdf = gpd.read_file(\"LSOA_2011_London_gen_MHW.shp\")\n",
    "\n",
    "\n",
    "print(\"IMD DataFrame Columns:\", df_imd.columns)\n",
    "print(\"LSOA GeoDataFrame Columns:\", lsoa_gdf.columns)\n",
    "\n",
    "\n",
    "common_column_left = 'LSOA11CD'\n",
    "common_column_right = 'LSOA code (2011)'\n",
    "\n",
    "\n",
    "merged_gdf = lsoa_gdf.merge(df_imd, left_on=common_column_left, right_on=common_column_right, how='left')\n",
    "\n",
    "\n",
    "print(\"Merged GeoDataFrame Columns:\", merged_gdf.columns)\n",
    "\n"
   ]
  },
  {
   "cell_type": "code",
   "execution_count": null,
   "id": "00896007-af3a-442f-ac73-7cb50a9b32c5",
   "metadata": {},
   "outputs": [],
   "source": [
    "lsoa_gdf.head()"
   ]
  },
  {
   "cell_type": "code",
   "execution_count": null,
   "id": "d477f900-2e2c-4dd7-8d56-214b16e218fa",
   "metadata": {},
   "outputs": [],
   "source": [
    "lsoa_gdf = gpd.read_file(\"LSOA_2011_London_gen_MHW.shp\")\n",
    "\n",
    "\n",
    "print(\"IMD DataFrame Columns:\", df_imd.columns)\n",
    "print(\"LSOA GeoDataFrame Columns:\", lsoa_gdf.columns)"
   ]
  },
  {
   "cell_type": "code",
   "execution_count": null,
   "id": "e9984a81-6510-4ddc-8e17-23c994094e29",
   "metadata": {},
   "outputs": [],
   "source": [
    "fig, ax = plt.subplots(figsize=(10, 10))\n",
    "\n",
    "merged_gdf.plot(\n",
    "    column='Index of Multiple Deprivation (IMD) Decile',\n",
    "    cmap='OrRd',\n",
    "    linewidth=0.2,\n",
    "    edgecolor='grey',\n",
    "    legend=True,\n",
    "    ax=ax,\n",
    "    legend_kwds={\n",
    "        'shrink': 0.5,           \n",
    "        'label': 'IMD Decile',   \n",
    "        'orientation': 'vertical'  \n",
    "    },\n",
    "    missing_kwds={'color': 'lightgrey', \"label\": \"No Data\"}\n",
    ")\n",
    "\n",
    "ax.set_title(\"London LSOAs Index of Multiple Deprivation Decile, 2019\", fontsize=15)\n",
    "ax.set_axis_off()\n",
    "plt.show()"
   ]
  },
  {
   "cell_type": "code",
   "execution_count": null,
   "id": "0b9cfedf-2b91-4129-a3e1-d73f6b28d7ea",
   "metadata": {},
   "outputs": [],
   "source": [
    "import matplotlib.pyplot as plt \n",
    "from matplotlib import colors \n",
    "# Analysis\n",
    "import geopandas as gpd \n",
    "import pandas as pd\n",
    "from libpysal import weights \n",
    "from pysal.explore import esda\n",
    "import numpy as np"
   ]
  },
  {
   "cell_type": "code",
   "execution_count": null,
   "id": "e7bbe57f-fca5-42d3-897f-70785e4798b3",
   "metadata": {},
   "outputs": [],
   "source": [
    "import warnings\n",
    "warnings.filterwarnings(\"ignore\")\n",
    "\n",
    "import shapely                 #needed to set geopandas geometry \n",
    "from shapely.wkt import loads  #needed to set geopandas geometry\n",
    "\n",
    "import pandas as pd            #for DataFrame and analysis\n",
    "import geopandas as gpd        #for mapping and spatial aggregation\n",
    "import mapclassify as mp   #to view quantitative classification summaries\n",
    "\n",
    "import numpy as np        #for working with arrays from mapclassify\n",
    "\n",
    "import matplotlib.pyplot as plt  #use matplotlib to modify the plots (e.g. make them larger) \n",
    "import palettable.colorbrewer.sequential as pcs  #for colorBrewer palettes"
   ]
  },
  {
   "cell_type": "code",
   "execution_count": null,
   "id": "d752b690-cb85-42e8-a296-1f776479342f",
   "metadata": {},
   "outputs": [],
   "source": [
    "print(df_imd.columns.tolist())\n"
   ]
  },
  {
   "cell_type": "code",
   "execution_count": null,
   "id": "45731d3b-0282-4fb1-9b0f-0a1a4d5ea15b",
   "metadata": {},
   "outputs": [],
   "source": [
    "merged_gdf = lsoa_gdf.merge(df_imd, left_on=\"LSOA11CD\", right_on=\"LSOA code (2011)\")"
   ]
  },
  {
   "cell_type": "code",
   "execution_count": null,
   "id": "321af1f1-63f6-4ae0-8c27-b7e452d52057",
   "metadata": {},
   "outputs": [],
   "source": [
    "w = weights.KNN.from_dataframe(merged_gdf, k=8)\n",
    "w.transform = 'R'"
   ]
  },
  {
   "cell_type": "code",
   "execution_count": null,
   "id": "6d1b6869-7937-444c-b243-6d092cbd3f03",
   "metadata": {},
   "outputs": [],
   "source": [
    "merged_gdf['Index of Multiple Deprivation (IMD) Rank'] = (\n",
    "    merged_gdf['Index of Multiple Deprivation (IMD) Rank']\n",
    "    .str.replace(',', '', regex=False)   # Remove commas\n",
    "    .astype(float)                       # Convert to float (or int if you prefer)\n",
    ")\n",
    "\n",
    "merged_gdf['Index of Multiple Deprivation (IMD) Rank'] = (\n",
    "    merged_gdf['Index of Multiple Deprivation (IMD) Rank']\n",
    "    .str.replace(',', '', regex=False)   # Remove commas\n",
    "    .astype(float)                       # Convert to float (or int if you prefer)\n",
    ")"
   ]
  },
  {
   "cell_type": "code",
   "execution_count": null,
   "id": "1560e424-8a03-49ee-a6de-276ffd406875",
   "metadata": {},
   "outputs": [],
   "source": [
    "moran = esda.moran.Moran(merged_gdf['Index of Multiple Deprivation (IMD) Rank'], w)"
   ]
  },
  {
   "cell_type": "code",
   "execution_count": null,
   "id": "0b2b7a20-417f-482d-8f60-03000f6535ea",
   "metadata": {},
   "outputs": [],
   "source": [
    "round(moran.I,3)"
   ]
  },
  {
   "cell_type": "code",
   "execution_count": null,
   "id": "462efde1-f119-42a0-98aa-c10f3ee25144",
   "metadata": {},
   "outputs": [],
   "source": [
    "moran.p_sim"
   ]
  },
  {
   "cell_type": "code",
   "execution_count": null,
   "id": "27a11fc0-fca1-4e19-ac0a-169116c685fa",
   "metadata": {},
   "outputs": [],
   "source": [
    "plt.hist(moran.sim, 10, facecolor='lightblue', edgecolor='black')\n",
    "plt.vlines(moran.I, 0, 350, color='r', linestyle=\"--\")\n",
    "plt.vlines(moran.EI, 0, 350)\n",
    "plt.xlabel(\"Moran's I\")\n",
    "plt.ylabel(\"Count\")\n",
    "plt.show()"
   ]
  },
  {
   "cell_type": "code",
   "execution_count": null,
   "id": "9df31f63-3942-4470-8adf-d56b5a01f158",
   "metadata": {},
   "outputs": [],
   "source": [
    "merged_gdf['IMD_Rank_lag'] = weights.spatial_lag.lag_spatial(w, merged_gdf['Index of Multiple Deprivation (IMD) Rank'])"
   ]
  },
  {
   "cell_type": "code",
   "execution_count": null,
   "id": "d1a2b0ad-fb85-41b8-860e-ed9a2e34f888",
   "metadata": {},
   "outputs": [],
   "source": [
    "def standardize(df, var):\n",
    "    newname = var + '_z'\n",
    "    df[newname] = (df[var] - df[var].mean()) / df[var].std()\n",
    "\n",
    "standardize(merged_gdf,'Index of Multiple Deprivation (IMD) Rank')\n",
    "standardize(merged_gdf, 'IMD_Rank_lag')"
   ]
  },
  {
   "cell_type": "code",
   "execution_count": null,
   "id": "953d7922-f46c-43f2-9cf8-49e637adcffb",
   "metadata": {},
   "outputs": [],
   "source": [
    "merged_gdf.tail()"
   ]
  },
  {
   "cell_type": "code",
   "execution_count": null,
   "id": "98d4a4a9-baaf-476e-af1d-c58668286f63",
   "metadata": {},
   "outputs": [],
   "source": [
    "fig, ax = plt.subplots(2,2, figsize=(8,10))\n",
    "\n",
    "ax=ax.flatten()\n",
    "\n",
    "\n",
    "for i, p in enumerate(['Index of Multiple Deprivation (IMD) Rank',\n",
    "                       'Index of Multiple Deprivation (IMD) Rank_z','IMD_Rank_lag','IMD_Rank_lag_z']):\n",
    "    \n",
    "    merged_gdf.plot(column=p, cmap='viridis', \n",
    "                   scheme='quantiles', k=5,\n",
    "                   linewidth=0.,\n",
    "                   legend=True, legend_kwds={\"title\":p, \"loc\": 3}, ax=ax[i]\n",
    "                  )\n",
    "    ax[i].set_axis_off()\n",
    "    \n",
    "fig.tight_layout()\n",
    "plt.show()\n"
   ]
  },
  {
   "cell_type": "code",
   "execution_count": null,
   "id": "617d40d2-8bcd-4bcb-a8cb-886eb65ecff1",
   "metadata": {},
   "outputs": [],
   "source": [
    "fig, ax = plt.subplots(1, figsize=(6, 6))\n",
    "\n",
    "\n",
    "plt.scatter(merged_gdf['Index of Multiple Deprivation (IMD) Rank_z'], merged_gdf['IMD_Rank_lag_z'], color='slateblue', alpha=0.7)\n",
    "\n",
    "\n",
    "plt.axhline(0, color='grey', linestyle='--')\n",
    "plt.axvline(0, color='grey', linestyle='--')\n",
    "\n",
    "\n",
    "ax.set_title(\"Moran Scatterplot of IMD Rank in London (2019)\", fontsize=13)\n",
    "ax.set_xlabel(\"Standardised IMD Rank (z-score)\", fontsize=11)\n",
    "ax.set_ylabel(\"Spatial Lag of IMD Rank (z-score)\", fontsize=11)\n",
    "\n",
    "\n",
    "plt.tight_layout()\n",
    "plt.show()"
   ]
  },
  {
   "cell_type": "code",
   "execution_count": null,
   "id": "58a66fc6-08f0-4abf-bad0-a3269d97f956",
   "metadata": {},
   "outputs": [],
   "source": [
    "fig, ax = plt.subplots(1, figsize=(6, 6))\n",
    "\n",
    "\n",
    "plt.scatter(\n",
    "    merged_gdf['Index of Multiple Deprivation (IMD) Rank_z'], \n",
    "    merged_gdf['IMD_Rank_lag_z'], \n",
    "    alpha=0.6, \n",
    "    color='slateblue'\n",
    ")\n",
    "\n",
    "\n",
    "ax.axvline(0, color='k', linestyle='--', alpha=0.6)\n",
    "ax.axhline(0, color='k', linestyle='--', alpha=0.6)\n",
    "\n",
    "\n",
    "plt.text(1, 1.5, \"HH\", fontsize=20, color='darkred')\n",
    "plt.text(1, -1.5, \"HL\", fontsize=20, color='darkorange')\n",
    "plt.text(-1.75, 1.5, \"LH\", fontsize=20, color='darkgreen')\n",
    "plt.text(-1.75, -1.5, \"LL\", fontsize=20, color='navy')\n",
    "\n",
    "\n",
    "ax.set_title(\"Moran Scatterplot of IMD Deciles in London (2019)\", fontsize=13)\n",
    "ax.set_xlabel(\"Standardised IMD Rank (z-score)\", fontsize=11)\n",
    "ax.set_ylabel(\"Spatial Lag of IMD Rank (z-score)\", fontsize=11)\n",
    "\n",
    "plt.tight_layout()\n",
    "plt.show()"
   ]
  },
  {
   "cell_type": "code",
   "execution_count": null,
   "id": "4a1e95e0-7c08-4bc0-b151-e1c1db536668",
   "metadata": {},
   "outputs": [],
   "source": [
    "def assign_quadrant(row):\n",
    "    if row['Index of Multiple Deprivation (IMD) Rank_z'] > 0:\n",
    "        if row['IMD_Rank_lag_z'] > 0:\n",
    "            return 'HH'  \n",
    "        else:\n",
    "            return 'HL'  \n",
    "    else:\n",
    "        if row['IMD_Rank_lag_z'] > 0:\n",
    "            return 'LH'  \n",
    "        else:\n",
    "            return 'LL'  \n",
    "\n",
    "merged_gdf['quadrant'] = merged_gdf.apply(assign_quadrant, axis=1)"
   ]
  },
  {
   "cell_type": "code",
   "execution_count": null,
   "id": "709052af-a6f4-4f72-a2dc-04a061ec01c6",
   "metadata": {},
   "outputs": [],
   "source": [
    "qcolors = {'HH':'red', 'HL':'pink', 'LH':'lightblue', 'LL':'blue'}\n",
    "cmap = colors.ListedColormap(qcolors.values())\n",
    "\n",
    "fig, ax = plt.subplots(1, 2, figsize=(12, 6))\n",
    "\n",
    "# --- Choropleth Map of Moran Quadrants ---\n",
    "merged_gdf.plot(\n",
    "    column='quadrant',\n",
    "    categorical=True,\n",
    "    cmap=cmap,\n",
    "    edgecolor='white',\n",
    "    linewidth=0.2,\n",
    "    legend=True,\n",
    "    legend_kwds={\"title\": \"Moran I Quadrant\", \"loc\": 3},\n",
    "    ax=ax[0]\n",
    ")\n",
    "ax[0].set_title(\"Local Spatial Clusters (IMD Rank)\")\n",
    "ax[0].axis(\"off\")\n",
    "\n",
    "# --- Moran Scatterplot ---\n",
    "ax[1].scatter(\n",
    "    merged_gdf['Index of Multiple Deprivation (IMD) Rank_z'],\n",
    "    merged_gdf['IMD_Rank_lag_z'],\n",
    "    c=merged_gdf['quadrant'].map(qcolors),\n",
    "    alpha=0.7\n",
    ")\n",
    "ax[1].axvline(0, color='k', linestyle='--', alpha=0.5)\n",
    "ax[1].axhline(0, color='k', linestyle='--', alpha=0.5)\n",
    "\n",
    "# Label axes and title\n",
    "ax[1].set_xlabel(\"Crime Rate (z)\")\n",
    "ax[1].set_ylabel(\"Spatial Lag of Crime Rate (z)\")\n",
    "ax[1].set_title(\"Moran Scatterplot\")\n",
    "\n",
    "plt.tight_layout()\n",
    "plt.show()"
   ]
  },
  {
   "cell_type": "code",
   "execution_count": null,
   "id": "72e8a7a3-69ee-4ef0-96f5-f0be8d0592be",
   "metadata": {},
   "outputs": [],
   "source": [
    "lisa = esda.moran.Moran_Local(merged_gdf['Index of Multiple Deprivation (IMD) Rank'], w)"
   ]
  },
  {
   "cell_type": "code",
   "execution_count": null,
   "id": "0b882d9f-194b-42a7-ab08-503e81c49722",
   "metadata": {},
   "outputs": [],
   "source": [
    "merged_gdf['Is'] = lisa.Is\n",
    "\n",
    "fig, ax = plt.subplots(1, figsize=(9, 9))\n",
    "merged_gdf.plot(column='Is', cmap='viridis',\n",
    "scheme='quantiles', k=5,\n",
    "linewidth=0.,\n",
    "legend=True, legend_kwds={\"title\":\"Local Moran's I\",\"loc\": 3}, ax=ax\n",
    "       )\n",
    "ax.set_axis_off()"
   ]
  },
  {
   "cell_type": "code",
   "execution_count": null,
   "id": "3d08fcb8-badb-4c5c-b03a-a624e94af3cf",
   "metadata": {},
   "outputs": [],
   "source": [
    "plt.hist(lisa.Is, 10, facecolor='lightblue', edgecolor='black')\n",
    "plt.xlabel(\"Local Moran's I\")\n",
    "plt.ylabel(\"Count\")\n",
    "plt.show()"
   ]
  },
  {
   "cell_type": "code",
   "execution_count": null,
   "id": "452761f9-e347-454d-8d24-a15c5ffc0067",
   "metadata": {},
   "outputs": [],
   "source": [
    "plt.hist(lisa.p_sim, 10, facecolor='lightblue', edgecolor='black')\n",
    "plt.xlabel(\"Local Moran's I p-value\")\n",
    "plt.ylabel(\"Count\")\n",
    "plt.show()"
   ]
  },
  {
   "cell_type": "code",
   "execution_count": null,
   "id": "6c3220b2-5db0-4438-95ad-3849b22ce81a",
   "metadata": {},
   "outputs": [],
   "source": [
    "merged_gdf['p-sim'] = lisa.p_sim\n",
    "sig = 1 * (lisa.p_sim < 0.05) \n",
    "slabels = ['non-sig.', 'significant'] \n",
    "labels = [slabels[i] for i in sig]\n",
    "merged_gdf['sig'] = labels\n",
    "merged_gdf[['sig','p-sim']].head(35)"
   ]
  },
  {
   "cell_type": "code",
   "execution_count": null,
   "id": "3bdd1ddb-6b6d-4af6-bb64-f34f93d77035",
   "metadata": {},
   "outputs": [],
   "source": [
    "fig, ax = plt.subplots(1,figsize=(10,8))\n",
    "sigcolors = {'non-sig.':'lightgrey', 'significant':'black'}\n",
    "merged_gdf.plot(column='sig', categorical=True, cmap=colors.ListedColormap(sigcolors. \n",
    "    values()),\n",
    "            k=2, linewidth=0.1, edgecolor='white',\n",
    "               legend=True, legend_kwds={\"title\":'Local Moran I',\"loc\": 2}, ax=ax)\n",
    "plt.show()"
   ]
  },
  {
   "cell_type": "code",
   "execution_count": null,
   "id": "6e8ac12e-cc91-44bc-86c9-5e6e82e395b1",
   "metadata": {},
   "outputs": [],
   "source": [
    "merged_gdf['sigIs'] = np.where(merged_gdf['sig'] == 'significant', merged_gdf['Is'], np.nan)\n",
    "\n",
    "\n",
    "fig, ax = plt.subplots(1, figsize=(10, 8))\n",
    "\n",
    "merged_gdf.plot(color='lightgrey', linewidth=0.0, ax=ax)\n",
    "\n",
    "\n",
    "merged_gdf.plot(\n",
    "    column='sigIs',\n",
    "    cmap='viridis',\n",
    "    scheme='quantiles',\n",
    "    k=5,\n",
    "    edgecolor='white',\n",
    "    linewidth=0.5,\n",
    "    legend=True,\n",
    "    legend_kwds={\"title\": \"Local Moran's I\", \"loc\": \"lower left\"},\n",
    "    ax=ax\n",
    ")\n",
    "\n",
    "# Clean up display\n",
    "ax.set_title(\"Statistically Significant Local Moran's I – Crime Rate\", fontsize=14)\n",
    "ax.set_axis_off()\n",
    "plt.show()"
   ]
  },
  {
   "cell_type": "code",
   "execution_count": null,
   "id": "917e6089-50e8-4f08-ad0f-9d62d8a24dee",
   "metadata": {},
   "outputs": [],
   "source": [
    "merged_gdf['sigIs'] = np.where(merged_gdf['sig'] == 'significant', merged_gdf['Is'], np.nan)\n",
    "\n",
    "# Plotting\n",
    "fig, ax = plt.subplots(1, figsize=(10, 8))\n",
    "\n",
    "# Base map (grey background)\n",
    "merged_gdf.plot(color='lightgrey', linewidth=0.2, ax=ax)\n",
    "\n",
    "# Overlay: only significant LISA values\n",
    "merged_gdf.plot(\n",
    "    column='sigIs',\n",
    "    cmap='viridis',\n",
    "    scheme='quantiles',\n",
    "    k=5,\n",
    "    edgecolor='white',\n",
    "    linewidth=0.2,\n",
    "    legend=True,\n",
    "    legend_kwds={\"title\": \"Local Moran's I\", \"loc\": 2},\n",
    "    ax=ax\n",
    ")\n",
    "\n",
    "ax.set_title(\"Significant Local Moran's I for Crime Rate (2019)\", fontsize=14)\n",
    "ax.axis('off')\n",
    "plt.tight_layout()\n",
    "plt.show()"
   ]
  },
  {
   "cell_type": "code",
   "execution_count": null,
   "id": "0a4faa47-0a4c-4126-a569-a0d19dd16077",
   "metadata": {},
   "outputs": [],
   "source": [
    "qcolors = {'HH': 'red', 'HL': 'pink', 'LL': 'lightblue', 'LH': 'blue'}\n",
    "cmap_quadrant = colors.ListedColormap(qcolors.values())\n",
    "\n",
    "\n",
    "fig, ax = plt.subplots(1, 2, figsize=(12, 6))\n",
    "\n",
    "\n",
    "merged_gdf.plot(\n",
    "    column='quadrant',\n",
    "    categorical=True,\n",
    "    cmap=cmap_quadrant,\n",
    "    edgecolor='white',\n",
    "    linewidth=0.2,\n",
    "    legend=True,\n",
    "    legend_kwds={\"title\": 'Moran I Quadrant', \"loc\": 3},\n",
    "    ax=ax[0]\n",
    ")\n",
    "ax[0].set_title(\"Moran's I Clusters (IMD Rank)\")\n",
    "ax[0].axis('off')\n",
    "\n",
    "\n",
    "merged_gdf.plot(\n",
    "    color='lightgrey',\n",
    "    linewidth=0.2,\n",
    "    ax=ax[1]\n",
    ")\n",
    "merged_gdf.plot(\n",
    "    column='sigIs',\n",
    "    cmap='viridis',\n",
    "    scheme='quantiles',\n",
    "    k=5,\n",
    "    edgecolor='white',\n",
    "    linewidth=0.2,\n",
    "    legend=True,\n",
    "    legend_kwds={\"title\": \"Local Moran's I\", \"loc\": 3},\n",
    "    ax=ax[1]\n",
    ")\n",
    "ax[1].set_title(\"Significant Local Moran's I (IMD Rank)\")\n",
    "ax[1].axis('off')\n",
    "\n",
    "plt.tight_layout()\n",
    "plt.show()"
   ]
  },
  {
   "cell_type": "code",
   "execution_count": null,
   "id": "b834c920-ce8e-4eb3-828d-a864774306e1",
   "metadata": {},
   "outputs": [],
   "source": [
    "q_labels = ['HH', 'LH', 'LL', 'HL']  \n",
    "\n",
    "\n",
    "labels = [q_labels[i - 1] for i in lisa.q]\n",
    "\n",
    "\n",
    "merged_gdf['quadrant'] = labels\n",
    "\n",
    "sig = lisa.p_sim < 0.05\n",
    "\n",
    "\n",
    "hotspot   = 1 * (sig * (lisa.q == 1))  \n",
    "doughnut  = 2 * (sig * (lisa.q == 2))  \n",
    "coldspot  = 3 * (sig * (lisa.q == 3))  \n",
    "diamond   = 4 * (sig * (lisa.q == 4))  \n",
    "\n",
    "\n",
    "spots = hotspot + doughnut + coldspot + diamond\n",
    "\n",
    "\n",
    "spot_labels = ['0 non-sig.', '1 hot spot', '2 doughnut', '3 cold spot', '4 diamond']\n",
    "labels = [spot_labels[i] for i in spots]\n",
    "\n",
    "\n",
    "merged_gdf['slabels'] = labels\n",
    "\n",
    "fig, ax = plt.subplots(1, figsize=(12, 12))\n",
    "\n",
    "\n",
    "sig_colors = colors.ListedColormap(['lightgrey', 'red', 'lightblue', 'blue', 'pink'])\n",
    "\n",
    "\n",
    "merged_gdf.plot(\n",
    "    column='slabels',\n",
    "    categorical=True,\n",
    "    cmap=sig_colors,\n",
    "    k=2,\n",
    "    linewidth=0.1,\n",
    "    edgecolor='white',\n",
    "    legend=True,\n",
    "    legend_kwds={'title': \"LISA (Moran's I)\", 'loc': 2},\n",
    "    ax=ax\n",
    ")\n",
    "\n",
    "ax.set_axis_off()\n",
    "ax.set_title(\"LISA Cluster Map (IMD Ranking)\", fontsize=15)\n",
    "plt.show()"
   ]
  },
  {
   "cell_type": "code",
   "execution_count": null,
   "id": "10fad05b-ddec-4878-a5dc-58f405b634a5",
   "metadata": {},
   "outputs": [],
   "source": [
    "df = pd.read_csv('ID 2019 for London.csv')\n",
    "print(df.head())"
   ]
  },
  {
   "cell_type": "code",
   "execution_count": null,
   "id": "fa924312-b6d7-4228-a9ec-f83abfa17944",
   "metadata": {},
   "outputs": [],
   "source": [
    "df.rename(columns={\n",
    "    'Index of Multiple Deprivation (IMD) Score': 'IMD_Score'\n",
    "}, inplace=True)"
   ]
  },
  {
   "cell_type": "code",
   "execution_count": null,
   "id": "3342411d-6475-407b-b189-95e7958d66a5",
   "metadata": {},
   "outputs": [],
   "source": [
    "imd_data = df[['LSOA code (2011)', 'IMD_Score']].copy()"
   ]
  },
  {
   "cell_type": "code",
   "execution_count": null,
   "id": "30f8dedc-0093-4b20-812c-53910c1e740d",
   "metadata": {},
   "outputs": [],
   "source": [
    "import geopandas as gpd\n",
    "\n",
    "\n",
    "gdf = gpd.read_file('LSOA_2011_London_gen_MHW.shp')  \n",
    "\n",
    "\n",
    "gdf = gdf.merge(imd_data, left_on='LSOA11CD', right_on='LSOA code (2011)')"
   ]
  },
  {
   "cell_type": "code",
   "execution_count": null,
   "id": "70a7175d-58c7-426d-be58-e7b4662aa667",
   "metadata": {},
   "outputs": [],
   "source": [
    "w = weights.KNN.from_dataframe(merged_gdf, k=8)\n",
    "w.transform = 'R'"
   ]
  },
  {
   "cell_type": "code",
   "execution_count": null,
   "id": "c9d38a1f-e9fe-4141-9323-16965a7dc044",
   "metadata": {},
   "outputs": [],
   "source": [
    "from esda.moran import Moran\n",
    "import matplotlib.pyplot as plt\n",
    "moran = Moran(gdf['IMD_Score'], w)"
   ]
  },
  {
   "cell_type": "code",
   "execution_count": null,
   "id": "1172525e-887a-4274-b131-e10c783f1ca6",
   "metadata": {},
   "outputs": [],
   "source": [
    "round(moran.I,3)"
   ]
  },
  {
   "cell_type": "code",
   "execution_count": null,
   "id": "b1330bea-4f5d-47c3-9f01-3a516c4ad3ef",
   "metadata": {},
   "outputs": [],
   "source": [
    "moran.p_sim"
   ]
  },
  {
   "cell_type": "code",
   "execution_count": null,
   "id": "9259c35f-cbb1-41b9-9223-97ad1c2b4a1a",
   "metadata": {},
   "outputs": [],
   "source": [
    "plt.hist(moran.sim, 10, facecolor='lightblue', edgecolor='black')\n",
    "plt.vlines(moran.I, 0, 350, color='r', linestyle=\"--\")\n",
    "plt.vlines(moran.EI, 0, 350)\n",
    "plt.xlabel(\"Moran's I\")\n",
    "plt.ylabel(\"Count\")\n",
    "plt.show()"
   ]
  },
  {
   "cell_type": "code",
   "execution_count": null,
   "id": "df96a3bd-a4de-4508-abd9-d66f33840cca",
   "metadata": {},
   "outputs": [],
   "source": [
    "from libpysal.weights import spatial_lag\n",
    "gdf['IMD_Score_lag'] = spatial_lag.lag_spatial(w, gdf['IMD_Score'])"
   ]
  },
  {
   "cell_type": "code",
   "execution_count": null,
   "id": "2837869a-a6a3-49c2-9561-e81d3827846d",
   "metadata": {},
   "outputs": [],
   "source": [
    "def standardize(df, var):\n",
    "    newname = var + '_z'\n",
    "    df[newname] = (df[var] - df[var].mean()) / df[var].std()\n",
    "\n",
    "standardize(gdf,'IMD_Score')\n",
    "standardize(gdf, 'IMD_Score_lag')"
   ]
  },
  {
   "cell_type": "code",
   "execution_count": null,
   "id": "4c6edbf0-f048-4f14-89e9-b2fc61bfaf5d",
   "metadata": {},
   "outputs": [],
   "source": [
    "gdf.tail()"
   ]
  },
  {
   "cell_type": "code",
   "execution_count": null,
   "id": "05e986a3-d5e6-47e1-826f-0637a2f543ed",
   "metadata": {},
   "outputs": [],
   "source": [
    "fig, ax = plt.subplots(2,2, figsize=(8,10))\n",
    "\n",
    "ax=ax.flatten()\n",
    "\n",
    "\n",
    "for i, p in enumerate(['IMD_Score',\n",
    "                       'IMD_Score_z','IMD_Score_lag','IMD_Score_lag_z']):\n",
    "    \n",
    "    gdf.plot(column=p, cmap='viridis', \n",
    "                   scheme='quantiles', k=5,\n",
    "                   linewidth=0.,\n",
    "                   legend=True, legend_kwds={\"title\":p, \"loc\": 3}, ax=ax[i]\n",
    "                  )\n",
    "    ax[i].set_axis_off()\n",
    "    \n",
    "fig.tight_layout()\n",
    "plt.show()"
   ]
  },
  {
   "cell_type": "code",
   "execution_count": null,
   "id": "cc77a03a-1d1f-46b8-b0a0-9a11aaec6226",
   "metadata": {},
   "outputs": [],
   "source": [
    "fig, ax = plt.subplots(1, figsize=(6, 6))\n",
    "\n",
    "\n",
    "plt.scatter(gdf['IMD_Score_z'], gdf['IMD_Score_lag_z'], color='slateblue', alpha=0.7)\n",
    "\n",
    "\n",
    "plt.axhline(0, color='grey', linestyle='--')\n",
    "plt.axvline(0, color='grey', linestyle='--')\n",
    "\n",
    "\n",
    "ax.set_title(\"Moran Scatterplot of IMD Score in London (2019)\", fontsize=13)\n",
    "ax.set_xlabel(\"Standardised IMD Score (z-score)\", fontsize=11)\n",
    "ax.set_ylabel(\"Spatial Lag of IMD Score (z-score)\", fontsize=11)\n",
    "\n",
    "\n",
    "plt.tight_layout()\n",
    "plt.show()"
   ]
  },
  {
   "cell_type": "code",
   "execution_count": null,
   "id": "beb4c5ab-ddb0-4416-acef-f884b7b6e4a0",
   "metadata": {},
   "outputs": [],
   "source": [
    "fig, ax = plt.subplots(1, figsize=(6, 6))\n",
    "\n",
    "\n",
    "plt.scatter(\n",
    "    gdf['IMD_Score_z'], \n",
    "    gdf['IMD_Score_lag_z'], \n",
    "    alpha=0.6, \n",
    "    color='slateblue'\n",
    ")\n",
    "\n",
    "\n",
    "ax.axvline(0, color='k', linestyle='--', alpha=0.6)\n",
    "ax.axhline(0, color='k', linestyle='--', alpha=0.6)\n",
    "\n",
    "\n",
    "plt.text(1, 1.5, \"HH\", fontsize=20, color='darkred')\n",
    "plt.text(1, -1.5, \"HL\", fontsize=20, color='darkorange')\n",
    "plt.text(-1.75, 1.5, \"LH\", fontsize=20, color='darkgreen')\n",
    "plt.text(-1.75, -1.5, \"LL\", fontsize=20, color='navy')\n",
    "\n",
    "\n",
    "ax.set_title(\"Moran Scatterplot of IMD Score London LSOAs (2019)\", fontsize=13)\n",
    "ax.set_xlabel(\"Standardised IMD Score (z-score)\", fontsize=11)\n",
    "ax.set_ylabel(\"Spatial Lag of IMD Score (z-score)\", fontsize=11)\n",
    "\n",
    "plt.tight_layout()\n",
    "plt.show()"
   ]
  },
  {
   "cell_type": "code",
   "execution_count": null,
   "id": "ee703b73-4120-4edf-98db-1d50db7f448a",
   "metadata": {},
   "outputs": [],
   "source": [
    "def assign_quadrant(row):\n",
    "    if row['IMD_Score_z'] > 0:\n",
    "        if row['IMD_Score_lag_z'] > 0:\n",
    "            return 'HH'  \n",
    "        else:\n",
    "            return 'HL'  \n",
    "    else:\n",
    "        if row['IMD_Score_lag_z'] > 0:\n",
    "            return 'LH'  \n",
    "        else:\n",
    "            return 'LL' \n",
    "\n",
    "\n",
    "gdf['quadrant'] = gdf.apply(assign_quadrant, axis=1)"
   ]
  },
  {
   "cell_type": "code",
   "execution_count": null,
   "id": "fee60cb8-54ae-4b39-83bf-1704e5edb29d",
   "metadata": {},
   "outputs": [],
   "source": [
    "fig, ax = plt.subplots(1, 2, figsize=(12, 6))\n",
    "\n",
    "\n",
    "gdf.plot(\n",
    "    column='quadrant',\n",
    "    cmap=cmap,\n",
    "    edgecolor='white',\n",
    "    linewidth=0.2,\n",
    "    legend=True,\n",
    "    legend_kwds={\"title\": \"Moran I Quadrant\", \"loc\": 3},\n",
    "    ax=ax[0]\n",
    ")\n",
    "ax[0].set_title(\"Local Spatial Clusters (IMD Score)\")\n",
    "ax[0].axis(\"off\")\n",
    "\n",
    "\n",
    "ax[1].scatter(\n",
    "    gdf['IMD_Score_z'],\n",
    "    gdf['IMD_Score_lag_z'],\n",
    "    c=gdf['quadrant'].map(qcolors),\n",
    "    alpha=0.7\n",
    ")\n",
    "ax[1].axvline(0, color='k', linestyle='--', alpha=0.5)\n",
    "ax[1].axhline(0, color='k', linestyle='--', alpha=0.5)\n",
    "\n",
    "# Label axes and title\n",
    "ax[1].set_xlabel(\"IMD Score (z)\")\n",
    "ax[1].set_ylabel(\"Spatial Lag of IMD Score (z)\")\n",
    "ax[1].set_title(\"Moran Scatterplot\")\n",
    "\n",
    "plt.tight_layout()\n",
    "plt.show()"
   ]
  },
  {
   "cell_type": "code",
   "execution_count": null,
   "id": "da48baf3-551f-4caa-a13d-dd559fe301e8",
   "metadata": {},
   "outputs": [],
   "source": [
    "lisa = esda.moran.Moran_Local(gdf['IMD_Score'], w)"
   ]
  },
  {
   "cell_type": "code",
   "execution_count": null,
   "id": "ae09af23-a0dc-4881-9473-dc79c6acbe37",
   "metadata": {},
   "outputs": [],
   "source": [
    "gdf['Is'] = lisa.Is\n",
    "\n",
    "fig, ax = plt.subplots(1, figsize=(9, 9))\n",
    "gdf.plot(column='Is', cmap='viridis',\n",
    "scheme='quantiles', k=5,\n",
    "linewidth=0.,\n",
    "legend=True, legend_kwds={\"title\":\"Local Moran's I\",\"loc\": 3}, ax=ax\n",
    "       )\n",
    "ax.set_axis_off()"
   ]
  },
  {
   "cell_type": "code",
   "execution_count": null,
   "id": "99112788-cc8d-4b3a-ada5-e132aa0389d7",
   "metadata": {},
   "outputs": [],
   "source": [
    "plt.hist(lisa.Is, 10, facecolor='lightblue', edgecolor='black')\n",
    "plt.xlabel(\"Local Moran's I\")\n",
    "plt.ylabel(\"Count\")\n",
    "plt.show()"
   ]
  },
  {
   "cell_type": "code",
   "execution_count": null,
   "id": "bb8d1f45-616a-4569-9148-be0ad92c4fb6",
   "metadata": {},
   "outputs": [],
   "source": [
    "plt.hist(lisa.p_sim, 10, facecolor='lightblue', edgecolor='black')\n",
    "plt.xlabel(\"Local Moran's I p-value\")\n",
    "plt.ylabel(\"Count\")\n",
    "plt.show()"
   ]
  },
  {
   "cell_type": "code",
   "execution_count": null,
   "id": "c5e3e25c-5936-40ea-a3c8-7bb15a5f2dbf",
   "metadata": {},
   "outputs": [],
   "source": [
    "gdf['p-sim'] = lisa.p_sim\n",
    "sig = 1 * (lisa.p_sim < 0.05) \n",
    "slabels = ['non-sig.', 'significant'] \n",
    "labels = [slabels[i] for i in sig]\n",
    "gdf['sig'] = labels\n",
    "gdf[['sig','p-sim']].head(35)"
   ]
  },
  {
   "cell_type": "code",
   "execution_count": null,
   "id": "279eeec9-8465-44b1-b3d8-7d2f86ce83e4",
   "metadata": {},
   "outputs": [],
   "source": [
    "fig, ax = plt.subplots(1,figsize=(10,8))\n",
    "sigcolors = {'non-sig.':'lightgrey', 'significant':'black'}\n",
    "gdf.plot(column='sig', categorical=True, cmap=colors.ListedColormap(sigcolors. \n",
    "    values()),\n",
    "            k=2, linewidth=0.1, edgecolor='white',\n",
    "               legend=True, legend_kwds={\"title\":'Local Moran I',\"loc\": 2}, ax=ax)\n",
    "plt.show()"
   ]
  },
  {
   "cell_type": "code",
   "execution_count": null,
   "id": "ae6e3b14-9060-467a-b989-32b37a63bb04",
   "metadata": {},
   "outputs": [],
   "source": [
    "gdf['sigIs'] = np.where(gdf['sig'] == 'significant', gdf['Is'], np.nan)\n",
    "\n",
    "\n",
    "fig, ax = plt.subplots(1, figsize=(10, 8))\n",
    "\n",
    "\n",
    "gdf.plot(color='lightgrey', linewidth=0.0, ax=ax)\n",
    "\n",
    "\n",
    "gdf.plot(\n",
    "    column='sigIs',\n",
    "    cmap='viridis',\n",
    "    scheme='quantiles',\n",
    "    k=5,\n",
    "    edgecolor='white',\n",
    "    linewidth=0.5,\n",
    "    legend=True,\n",
    "    legend_kwds={\"title\": \"Local Moran's I\", \"loc\": \"lower left\"},\n",
    "    ax=ax\n",
    ")\n",
    "\n",
    "# Clean up display\n",
    "ax.set_title(\"Statistically Significant Local Moran's I – IMD Score\", fontsize=14)\n",
    "ax.set_axis_off()\n",
    "plt.show()"
   ]
  },
  {
   "cell_type": "code",
   "execution_count": null,
   "id": "d2d3f601-ccf3-42f5-a86e-f91cc7db8bf2",
   "metadata": {},
   "outputs": [],
   "source": [
    "gdf['sigIs'] = np.where(gdf['sig'] == 'significant', gdf['Is'], np.nan)\n",
    "\n",
    "\n",
    "fig, ax = plt.subplots(1, figsize=(10, 8))\n",
    "\n",
    "\n",
    "gdf.plot(color='lightgrey', linewidth=0.2, ax=ax)\n",
    "\n",
    "\n",
    "gdf.plot(\n",
    "    column='sigIs',\n",
    "    cmap='viridis',\n",
    "    scheme='quantiles',\n",
    "    k=5,\n",
    "    edgecolor='white',\n",
    "    linewidth=0.2,\n",
    "    legend=True,\n",
    "    legend_kwds={\"title\": \"Local Moran's I\", \"loc\": 2},\n",
    "    ax=ax\n",
    ")\n",
    "\n",
    "ax.set_title(\"Significant Local Moran's I for IMD Score (2019)\", fontsize=14)\n",
    "ax.axis('off')\n",
    "plt.tight_layout()\n",
    "plt.show()"
   ]
  },
  {
   "cell_type": "code",
   "execution_count": null,
   "id": "955ec69f-2a9d-467e-b959-85ec67dff299",
   "metadata": {},
   "outputs": [],
   "source": [
    "qcolors = {'HH': 'red', 'HL': 'pink', 'LL': 'lightblue', 'LH': 'blue'}\n",
    "cmap_quadrant = colors.ListedColormap(qcolors.values())\n",
    "\n",
    "\n",
    "fig, ax = plt.subplots(1, 2, figsize=(12, 6))\n",
    "\n",
    "\n",
    "gdf.plot(\n",
    "    column='quadrant',\n",
    "    categorical=True,\n",
    "    cmap=cmap_quadrant,\n",
    "    edgecolor='white',\n",
    "    linewidth=0.2,\n",
    "    legend=True,\n",
    "    legend_kwds={\"title\": 'Moran I Quadrant', \"loc\": 3},\n",
    "    ax=ax[0]\n",
    ")\n",
    "ax[0].set_title(\"Moran's I Clusters (IMD Score)\")\n",
    "ax[0].axis('off')\n",
    "\n",
    "# --- Right: Significant Local Moran's I Values ---\n",
    "gdf.plot(\n",
    "    color='lightgrey',\n",
    "    linewidth=0.2,\n",
    "    ax=ax[1]\n",
    ")\n",
    "gdf.plot(\n",
    "    column='sigIs',\n",
    "    cmap='viridis',\n",
    "    scheme='quantiles',\n",
    "    k=5,\n",
    "    edgecolor='white',\n",
    "    linewidth=0.2,\n",
    "    legend=True,\n",
    "    legend_kwds={\"title\": \"Local Moran's I\", \"loc\": 3},\n",
    "    ax=ax[1]\n",
    ")\n",
    "ax[1].set_title(\"Significant Local Moran's I (IMD Score)\")\n",
    "ax[1].axis('off')\n",
    "\n",
    "plt.tight_layout()\n",
    "plt.show()"
   ]
  },
  {
   "cell_type": "code",
   "execution_count": null,
   "id": "bd89cbcb-353b-4dd1-a144-edace7ae8ceb",
   "metadata": {},
   "outputs": [],
   "source": [
    "q_labels = ['HH', 'LH', 'LL', 'HL']  \n",
    "\n",
    "labels = [q_labels[i - 1] for i in lisa.q]\n",
    "\n",
    "\n",
    "gdf['quadrant'] = labels\n",
    "\n",
    "sig = lisa.p_sim < 0.05\n",
    "\n",
    "\n",
    "hotspot   = 1 * (sig * (lisa.q == 1))  \n",
    "doughnut  = 2 * (sig * (lisa.q == 2))  \n",
    "coldspot  = 3 * (sig * (lisa.q == 3))  \n",
    "diamond   = 4 * (sig * (lisa.q == 4)) \n",
    "\n",
    "\n",
    "spots = hotspot + doughnut + coldspot + diamond\n",
    "\n",
    "\n",
    "spot_labels = ['0 non-sig.', '1 hot spot', '2 doughnut', '3 cold spot', '4 diamond']\n",
    "labels = [spot_labels[i] for i in spots]\n",
    "\n",
    "\n",
    "gdf['slabels'] = labels\n",
    "\n",
    "fig, ax = plt.subplots(1, figsize=(12, 12))\n",
    "\n",
    "\n",
    "sig_colors = colors.ListedColormap(['lightgrey', 'red', 'lightblue', 'blue', 'pink'])\n",
    "\n",
    "\n",
    "gdf.plot(\n",
    "    column='slabels',\n",
    "    categorical=True,\n",
    "    cmap=sig_colors,\n",
    "    k=2,\n",
    "    linewidth=0.1,\n",
    "    edgecolor='white',\n",
    "    legend=True,\n",
    "    legend_kwds={'title': \"LISA (Moran's I)\", 'loc': 2},\n",
    "    ax=ax\n",
    ")\n",
    "\n",
    "ax.set_axis_off()\n",
    "ax.set_title(\"LISA Cluster Map (IMD Score, London LSOAs (2019))\", fontsize=15)\n",
    "plt.show()"
   ]
  },
  {
   "cell_type": "code",
   "execution_count": null,
   "id": "82810c70-df7a-4a18-ae8a-f5369723f072",
   "metadata": {},
   "outputs": [],
   "source": []
  }
 ],
 "metadata": {
  "kernelspec": {
   "display_name": "Python 3 (ipykernel)",
   "language": "python",
   "name": "python3"
  },
  "language_info": {
   "codemirror_mode": {
    "name": "ipython",
    "version": 3
   },
   "file_extension": ".py",
   "mimetype": "text/x-python",
   "name": "python",
   "nbconvert_exporter": "python",
   "pygments_lexer": "ipython3",
   "version": "3.12.6"
  }
 },
 "nbformat": 4,
 "nbformat_minor": 5
}
